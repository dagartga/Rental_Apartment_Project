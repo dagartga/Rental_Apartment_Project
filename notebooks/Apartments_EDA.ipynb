{
 "cells": [
  {
   "cell_type": "markdown",
   "metadata": {},
   "source": [
    "# Apartment Rental Classified Ads\n",
    "\n",
    "### Explore data about Classified Ads for apartment rentals in the US\n",
    "\n",
    "**Data:** [UCI ML Repository - Apartment for rent classified](https://archive.ics.uci.edu/dataset/555/apartment+for+rent+classified)\n",
    "\n",
    "**Description:**\n",
    "\n",
    "- id = unique identifier of apartment\n",
    "- category = category of classified\n",
    "- title = title text of apartment\n",
    "- body = body text of apartment\n",
    "- amenities = like AC, basketball,cable, gym, internet access, pool, refrigerator etc.\n",
    "- bathrooms = number of bathrooms\n",
    "- bedrooms = number of bedrooms\n",
    "- currency = price in current\n",
    "- fee = fee\n",
    "- has_photo = photo of apartment\n",
    "- pets_allowed = what pets are allowed dogs/cats etc.\n",
    "- price = rental price of apartment\n",
    "- price_display = price converted into display for reader\n",
    "- price_type = price in USD\n",
    "- square_feet = size of the apartment\n",
    "- address =  where the apartment is located\n",
    "- cityname =  where the apartment is located\n",
    "- state =  where the apartment is located\n",
    "- latitude = where the apartment is located\n",
    "- longitude = where the apartment is located\n",
    "- source = origin of classified\n",
    "- time = when classified was created"
   ]
  },
  {
   "cell_type": "code",
   "execution_count": 12,
   "metadata": {},
   "outputs": [],
   "source": [
    "import pandas as pd\n",
    "import numpy as np\n",
    "import matplotlib.pyplot as plt\n",
    "import seaborn as sns\n",
    "from scipy import stats\n",
    "import os\n",
    "\n"
   ]
  },
  {
   "cell_type": "markdown",
   "metadata": {},
   "source": [
    "## Load the Data"
   ]
  },
  {
   "cell_type": "code",
   "execution_count": 13,
   "metadata": {},
   "outputs": [],
   "source": [
    "# load the csv file into a dataframe\n",
    "raw_df = pd.read_csv('../data/raw/apartments_for_rent_classified_10k.csv', sep=';', encoding='cp1252')"
   ]
  },
  {
   "cell_type": "code",
   "execution_count": 14,
   "metadata": {},
   "outputs": [
    {
     "name": "stdout",
     "output_type": "stream",
     "text": [
      "<class 'pandas.core.frame.DataFrame'>\n",
      "RangeIndex: 10000 entries, 0 to 9999\n",
      "Data columns (total 22 columns):\n",
      " #   Column         Non-Null Count  Dtype  \n",
      "---  ------         --------------  -----  \n",
      " 0   id             10000 non-null  int64  \n",
      " 1   category       10000 non-null  object \n",
      " 2   title          10000 non-null  object \n",
      " 3   body           10000 non-null  object \n",
      " 4   amenities      6451 non-null   object \n",
      " 5   bathrooms      9966 non-null   float64\n",
      " 6   bedrooms       9993 non-null   float64\n",
      " 7   currency       10000 non-null  object \n",
      " 8   fee            10000 non-null  object \n",
      " 9   has_photo      10000 non-null  object \n",
      " 10  pets_allowed   5837 non-null   object \n",
      " 11  price          10000 non-null  int64  \n",
      " 12  price_display  10000 non-null  object \n",
      " 13  price_type     10000 non-null  object \n",
      " 14  square_feet    10000 non-null  int64  \n",
      " 15  address        6673 non-null   object \n",
      " 16  cityname       9923 non-null   object \n",
      " 17  state          9923 non-null   object \n",
      " 18  latitude       9990 non-null   float64\n",
      " 19  longitude      9990 non-null   float64\n",
      " 20  source         10000 non-null  object \n",
      " 21  time           10000 non-null  int64  \n",
      "dtypes: float64(4), int64(4), object(14)\n",
      "memory usage: 1.7+ MB\n"
     ]
    }
   ],
   "source": [
    "# view the dataframe info\n",
    "raw_df.info()"
   ]
  },
  {
   "cell_type": "markdown",
   "metadata": {},
   "source": [
    "### Analysis of Data Quality\n",
    "There are some missing values and the largest amount of missing values are in: amenities, pets_allowed, address\n",
    "\n",
    "- Pets Allowed may be null because that is the way to signify that pets are not allowed.\n",
    "- Amenities may be null because that is the way a building signifies it does not have special amenities.\n",
    "- Address does not seem necessary since there is latitude and longitude values, which are more machine readable.\n",
    "\n",
    "## Explore the High % of Missing Value Columns"
   ]
  },
  {
   "cell_type": "code",
   "execution_count": null,
   "metadata": {},
   "outputs": [],
   "source": [
    "raw_df"
   ]
  }
 ],
 "metadata": {
  "kernelspec": {
   "display_name": "Python 3",
   "language": "python",
   "name": "python3"
  },
  "language_info": {
   "codemirror_mode": {
    "name": "ipython",
    "version": 3
   },
   "file_extension": ".py",
   "mimetype": "text/x-python",
   "name": "python",
   "nbconvert_exporter": "python",
   "pygments_lexer": "ipython3",
   "version": "3.9.9"
  }
 },
 "nbformat": 4,
 "nbformat_minor": 2
}
