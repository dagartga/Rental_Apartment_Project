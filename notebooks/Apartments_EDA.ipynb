{
 "cells": [
  {
   "cell_type": "markdown",
   "metadata": {},
   "source": [
    "# Apartment Rental Classified Ads\n",
    "\n",
    "### Explore data about Classified Ads for apartment rentals in the US\n",
    "\n",
    "**Data:** [UCI ML Repository - Apartment for rent classified](https://archive.ics.uci.edu/dataset/555/apartment+for+rent+classified)\n",
    "\n",
    "**Description:**\n",
    "\n",
    "- id = unique identifier of apartment\n",
    "- category = category of classified\n",
    "- title = title text of apartment\n",
    "- body = body text of apartment\n",
    "- amenities = like AC, basketball,cable, gym, internet access, pool, refrigerator etc.\n",
    "- bathrooms = number of bathrooms\n",
    "- bedrooms = number of bedrooms\n",
    "- currency = price in current\n",
    "- fee = fee\n",
    "- has_photo = photo of apartment\n",
    "- pets_allowed = what pets are allowed dogs/cats etc.\n",
    "- price = rental price of apartment\n",
    "- price_display = price converted into display for reader\n",
    "- price_type = price in USD\n",
    "- square_feet = size of the apartment\n",
    "- address =  where the apartment is located\n",
    "- cityname =  where the apartment is located\n",
    "- state =  where the apartment is located\n",
    "- latitude = where the apartment is located\n",
    "- longitude = where the apartment is located\n",
    "- source = origin of classified\n",
    "- time = when classified was created"
   ]
  },
  {
   "cell_type": "code",
   "execution_count": 1,
   "metadata": {},
   "outputs": [],
   "source": [
    "import pandas as pd\n",
    "import numpy as np\n",
    "import matplotlib.pyplot as plt\n",
    "import seaborn as sns\n",
    "from scipy import stats\n",
    "import os\n",
    "\n"
   ]
  },
  {
   "cell_type": "markdown",
   "metadata": {},
   "source": [
    "## Load the Data"
   ]
  },
  {
   "cell_type": "code",
   "execution_count": null,
   "metadata": {},
   "outputs": [],
   "source": []
  }
 ],
 "metadata": {
  "kernelspec": {
   "display_name": "Python 3",
   "language": "python",
   "name": "python3"
  },
  "language_info": {
   "codemirror_mode": {
    "name": "ipython",
    "version": 3
   },
   "file_extension": ".py",
   "mimetype": "text/x-python",
   "name": "python",
   "nbconvert_exporter": "python",
   "pygments_lexer": "ipython3",
   "version": "3.9.9"
  }
 },
 "nbformat": 4,
 "nbformat_minor": 2
}
