{
 "cells": [
  {
   "cell_type": "markdown",
   "metadata": {},
   "source": [
    "# Apartment Rental Classified Ads\n",
    "\n",
    "### Explore data about Classified Ads for apartment rentals in the US\n",
    "\n",
    "**Data:** [UCI ML Repository - Apartment for rent classified](https://archive.ics.uci.edu/dataset/555/apartment+for+rent+classified)\n",
    "\n",
    "**Description:**\n",
    "\n",
    "- id = unique identifier of apartment\n",
    "- category = category of classified\n",
    "- title = title text of apartment\n",
    "- body = body text of apartment\n",
    "- amenities = like AC, basketball,cable, gym, internet access, pool, refrigerator etc.\n",
    "- bathrooms = number of bathrooms\n",
    "- bedrooms = number of bedrooms\n",
    "- currency = price in current\n",
    "- fee = fee\n",
    "- has_photo = photo of apartment\n",
    "- pets_allowed = what pets are allowed dogs/cats etc.\n",
    "- price = rental price of apartment\n",
    "- price_display = price converted into display for reader\n",
    "- price_type = price in USD\n",
    "- square_feet = size of the apartment\n",
    "- address =  where the apartment is located\n",
    "- cityname =  where the apartment is located\n",
    "- state =  where the apartment is located\n",
    "- latitude = where the apartment is located\n",
    "- longitude = where the apartment is located\n",
    "- source = origin of classified\n",
    "- time = when classified was created"
   ]
  },
  {
   "cell_type": "code",
   "execution_count": null,
   "metadata": {},
   "outputs": [],
   "source": []
  }
 ],
 "metadata": {
  "language_info": {
   "name": "python"
  }
 },
 "nbformat": 4,
 "nbformat_minor": 2
}
